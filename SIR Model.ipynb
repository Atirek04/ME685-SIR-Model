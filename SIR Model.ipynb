{
 "cells": [
  {
   "cell_type": "code",
   "execution_count": 66,
   "id": "eb38ace0",
   "metadata": {},
   "outputs": [
    {
     "data": {
      "text/plain": [
       "0.45479452054794517"
      ]
     },
     "execution_count": 66,
     "metadata": {},
     "output_type": "execute_result"
    }
   ],
   "source": [
    "# Atirek Aryan 200221\n",
    "r=3.65 #Basic Reproductive  Ratio\n",
    "h=0.25 #grid size\n",
    "b=1.66 #transmission rate\n",
    "g=b/r #recovery rate\n",
    "g"
   ]
  },
  {
   "cell_type": "code",
   "execution_count": 67,
   "id": "9397b8e2",
   "metadata": {},
   "outputs": [],
   "source": [
    "# Creating arrays for S, I and R fractional values\n",
    "s=[]\n",
    "s.append(762/763)\n",
    "i=[]\n",
    "i.append(1/763)\n",
    "r=[]\n",
    "r.append(0/763)"
   ]
  },
  {
   "cell_type": "code",
   "execution_count": 68,
   "id": "e88dc1cb",
   "metadata": {},
   "outputs": [],
   "source": [
    "#Running a while loop to compute successive values for the S, I and R \n",
    "\n",
    "c=0\n",
    "while(1):\n",
    "    s1=(0-b*s[c]*i[c])\n",
    "    i1=(b*s[c]*i[c]-g*i[c])\n",
    "    r1=(g*i[c])\n",
    "    s2=0-b*(s[c]+h*s1/2)*(i[c]+h*i1/2)\n",
    "    i2=b*(s[c]+h*s1/2)*(i[c]+h*i1/2)-g*(i[c]+h*i1/2)\n",
    "    r2=(g*(i[c]+h*i1/2))\n",
    "    s3=0-b*(s[c]+h*s2/2)*(i[c]+h*i2/2)\n",
    "    i3=b*(s[c]+h*s2/2)*(i[c]+h*i2/2)-g*(i[c]+h*i2/2)\n",
    "    r3=(g*(i[c]+h*i2/2))\n",
    "    s4=0-b*(s[c]+h*s3/2)*(i[c]+h*i3/2)\n",
    "    i4=b*(s[c]+h*s3/2)*(i[c]+h*i3/2)-g*(i[c]+h*i3/2)\n",
    "    r4=(g*(i[c]+h*i3/2))\n",
    "    s.append(s[c]+h*(s1+2*s2+2*s3+s4)/6)\n",
    "    i.append(i[c]+h*(i1+2*i2+2*i3+i4)/6)\n",
    "    r.append(r[c]+h*(r1+2*r2+2*r3+r4)/6)\n",
    "    c=c+1\n",
    "    if(i[c]<1/763):\n",
    "        break\n",
    "    \n",
    "    "
   ]
  },
  {
   "cell_type": "code",
   "execution_count": 69,
   "id": "f548fd95",
   "metadata": {},
   "outputs": [],
   "source": [
    "import matplotlib.pyplot as plt\n",
    "import numpy as np"
   ]
  },
  {
   "cell_type": "code",
   "execution_count": 70,
   "id": "45f4ef12",
   "metadata": {},
   "outputs": [],
   "source": [
    "#Creating array for time\n",
    "t=np.linspace(0,22.25,num=89)"
   ]
  },
  {
   "cell_type": "code",
   "execution_count": 80,
   "id": "090a421d",
   "metadata": {
    "scrolled": true
   },
   "outputs": [
    {
     "data": {
      "image/png": "[encoded data removed]",
      "text/plain": [
       "<Figure size 432x288 with 1 Axes>"
      ]
     },
     "metadata": {
      "needs_background": "light"
     },
     "output_type": "display_data"
    }
   ],
   "source": [
    "#Plotting S,I and R according to the  data calculated\n",
    "plt.plot(t, s, 'r', label=\"Susceptible\") \n",
    "plt.plot(t, i, 'b', label=\"Infected\") \n",
    "plt.plot(t, r, 'g', label=\"Recovered\")\n",
    "plt.legend()\n",
    "plt.xlabel(\"Time (in Days)\")\n",
    "plt.ylabel(\"S, I, R\")\n",
    "plt.show()"
   ]
  },
  {
   "cell_type": "code",
   "execution_count": 72,
   "id": "73aa52c8",
   "metadata": {},
   "outputs": [
    {
     "data": {
      "text/plain": [
       "26"
      ]
     },
     "execution_count": 72,
     "metadata": {},
     "output_type": "execute_result"
    }
   ],
   "source": [
    "#Finding maximum value for Infected Group\n",
    "max=0\n",
    "for j in range(89):\n",
    "    if(i[max]<i[j]):\n",
    "        max=j\n",
    "max "
   ]
  },
  {
   "cell_type": "code",
   "execution_count": 73,
   "id": "bb08d1c0",
   "metadata": {},
   "outputs": [
    {
     "data": {
      "text/plain": [
       "286.2145844941352"
      ]
     },
     "execution_count": 73,
     "metadata": {},
     "output_type": "execute_result"
    }
   ],
   "source": [
    "i[26]*763"
   ]
  },
  {
   "cell_type": "code",
   "execution_count": 74,
   "id": "8da7d9a1",
   "metadata": {},
   "outputs": [],
   "source": [
    "#Finding the 1% of the maximum Infected value\n",
    "op=0\n",
    "for j in range(26,89):\n",
    "    if(i[26]*0.01>i[j] or i[26]*0.01==i[j] ):\n",
    "        op=j\n",
    "        break"
   ]
  },
  {
   "cell_type": "code",
   "execution_count": 75,
   "id": "89cc199f",
   "metadata": {},
   "outputs": [
    {
     "data": {
      "text/plain": [
       "77"
      ]
     },
     "execution_count": 75,
     "metadata": {},
     "output_type": "execute_result"
    }
   ],
   "source": [
    "op"
   ]
  },
  {
   "cell_type": "code",
   "execution_count": 76,
   "id": "6a3c0e94",
   "metadata": {},
   "outputs": [
    {
     "data": {
      "text/plain": [
       "0.37511741087042616"
      ]
     },
     "execution_count": 76,
     "metadata": {},
     "output_type": "execute_result"
    }
   ],
   "source": [
    "i[26]"
   ]
  },
  {
   "cell_type": "code",
   "execution_count": 77,
   "id": "537fa68a",
   "metadata": {},
   "outputs": [
    {
     "data": {
      "text/plain": [
       "0.003719229085859914"
      ]
     },
     "execution_count": 77,
     "metadata": {},
     "output_type": "execute_result"
    }
   ],
   "source": [
    "i[77]"
   ]
  },
  {
   "cell_type": "code",
   "execution_count": 78,
   "id": "23c8745a",
   "metadata": {},
   "outputs": [
    {
     "data": {
      "text/plain": [
       "0.004122208282372485"
      ]
     },
     "execution_count": 78,
     "metadata": {},
     "output_type": "execute_result"
    }
   ],
   "source": [
    "i[76]"
   ]
  },
  {
   "cell_type": "code",
   "execution_count": 79,
   "id": "d8fd7942",
   "metadata": {},
   "outputs": [
    {
     "data": {
      "text/plain": [
       "12.75"
      ]
     },
     "execution_count": 79,
     "metadata": {},
     "output_type": "execute_result"
    }
   ],
   "source": [
    "#Time taken to reach the 1%  from Maximum\n",
    "time=(77-26)*0.25\n",
    "time"
   ]
  }
 ],
 "metadata": {
  "kernelspec": {
   "display_name": "Python 3",
   "language": "python",
   "name": "python3"
  },
  "language_info": {
   "codemirror_mode": {
    "name": "ipython",
    "version": 3
   },
   "file_extension": ".py",
   "mimetype": "text/x-python",
   "name": "python",
   "nbconvert_exporter": "python",
   "pygments_lexer": "ipython3",
   "version": "3.8.8"
  }
 },
 "nbformat": 4,
 "nbformat_minor": 5
}
